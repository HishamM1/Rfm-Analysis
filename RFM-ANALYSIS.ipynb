{
 "cells": [
  {
   "cell_type": "markdown",
   "id": "6eb7c6ed",
   "metadata": {},
   "source": [
    "# RFM Assignment - هشام مدحت محمود 2020498820 G2"
   ]
  },
  {
   "cell_type": "code",
   "execution_count": 37,
   "id": "f8d0bc29",
   "metadata": {},
   "outputs": [],
   "source": [
    "import pandas as pd\n",
    "import numpy as np\n",
    "import datetime as dt\n",
    "import pytz"
   ]
  },
  {
   "cell_type": "code",
   "execution_count": 38,
   "id": "25eddefc",
   "metadata": {
    "scrolled": true
   },
   "outputs": [
    {
     "data": {
      "text/html": [
       "<div>\n",
       "<style scoped>\n",
       "    .dataframe tbody tr th:only-of-type {\n",
       "        vertical-align: middle;\n",
       "    }\n",
       "\n",
       "    .dataframe tbody tr th {\n",
       "        vertical-align: top;\n",
       "    }\n",
       "\n",
       "    .dataframe thead th {\n",
       "        text-align: right;\n",
       "    }\n",
       "</style>\n",
       "<table border=\"1\" class=\"dataframe\">\n",
       "  <thead>\n",
       "    <tr style=\"text-align: right;\">\n",
       "      <th></th>\n",
       "      <th>event_time</th>\n",
       "      <th>event_type</th>\n",
       "      <th>product_id</th>\n",
       "      <th>category_id</th>\n",
       "      <th>category_code</th>\n",
       "      <th>brand</th>\n",
       "      <th>price</th>\n",
       "      <th>user_id</th>\n",
       "      <th>user_session</th>\n",
       "    </tr>\n",
       "  </thead>\n",
       "  <tbody>\n",
       "    <tr>\n",
       "      <th>0</th>\n",
       "      <td>2019-11-01 00:00:02 UTC</td>\n",
       "      <td>view</td>\n",
       "      <td>5802432</td>\n",
       "      <td>1487580009286598681</td>\n",
       "      <td>NaN</td>\n",
       "      <td>NaN</td>\n",
       "      <td>0.32</td>\n",
       "      <td>562076640</td>\n",
       "      <td>09fafd6c-6c99-46b1-834f-33527f4de241</td>\n",
       "    </tr>\n",
       "    <tr>\n",
       "      <th>1</th>\n",
       "      <td>2019-11-01 00:00:09 UTC</td>\n",
       "      <td>cart</td>\n",
       "      <td>5844397</td>\n",
       "      <td>1487580006317032337</td>\n",
       "      <td>NaN</td>\n",
       "      <td>NaN</td>\n",
       "      <td>2.38</td>\n",
       "      <td>553329724</td>\n",
       "      <td>2067216c-31b5-455d-a1cc-af0575a34ffb</td>\n",
       "    </tr>\n",
       "    <tr>\n",
       "      <th>2</th>\n",
       "      <td>2019-11-01 00:00:10 UTC</td>\n",
       "      <td>view</td>\n",
       "      <td>5837166</td>\n",
       "      <td>1783999064103190764</td>\n",
       "      <td>NaN</td>\n",
       "      <td>pnb</td>\n",
       "      <td>22.22</td>\n",
       "      <td>556138645</td>\n",
       "      <td>57ed222e-a54a-4907-9944-5a875c2d7f4f</td>\n",
       "    </tr>\n",
       "    <tr>\n",
       "      <th>3</th>\n",
       "      <td>2019-11-01 00:00:11 UTC</td>\n",
       "      <td>cart</td>\n",
       "      <td>5876812</td>\n",
       "      <td>1487580010100293687</td>\n",
       "      <td>NaN</td>\n",
       "      <td>jessnail</td>\n",
       "      <td>3.16</td>\n",
       "      <td>564506666</td>\n",
       "      <td>186c1951-8052-4b37-adce-dd9644b1d5f7</td>\n",
       "    </tr>\n",
       "    <tr>\n",
       "      <th>4</th>\n",
       "      <td>2019-11-01 00:00:24 UTC</td>\n",
       "      <td>remove_from_cart</td>\n",
       "      <td>5826182</td>\n",
       "      <td>1487580007483048900</td>\n",
       "      <td>NaN</td>\n",
       "      <td>NaN</td>\n",
       "      <td>3.33</td>\n",
       "      <td>553329724</td>\n",
       "      <td>2067216c-31b5-455d-a1cc-af0575a34ffb</td>\n",
       "    </tr>\n",
       "  </tbody>\n",
       "</table>\n",
       "</div>"
      ],
      "text/plain": [
       "                event_time        event_type  product_id          category_id  \\\n",
       "0  2019-11-01 00:00:02 UTC              view     5802432  1487580009286598681   \n",
       "1  2019-11-01 00:00:09 UTC              cart     5844397  1487580006317032337   \n",
       "2  2019-11-01 00:00:10 UTC              view     5837166  1783999064103190764   \n",
       "3  2019-11-01 00:00:11 UTC              cart     5876812  1487580010100293687   \n",
       "4  2019-11-01 00:00:24 UTC  remove_from_cart     5826182  1487580007483048900   \n",
       "\n",
       "  category_code     brand  price    user_id  \\\n",
       "0           NaN       NaN   0.32  562076640   \n",
       "1           NaN       NaN   2.38  553329724   \n",
       "2           NaN       pnb  22.22  556138645   \n",
       "3           NaN  jessnail   3.16  564506666   \n",
       "4           NaN       NaN   3.33  553329724   \n",
       "\n",
       "                           user_session  \n",
       "0  09fafd6c-6c99-46b1-834f-33527f4de241  \n",
       "1  2067216c-31b5-455d-a1cc-af0575a34ffb  \n",
       "2  57ed222e-a54a-4907-9944-5a875c2d7f4f  \n",
       "3  186c1951-8052-4b37-adce-dd9644b1d5f7  \n",
       "4  2067216c-31b5-455d-a1cc-af0575a34ffb  "
      ]
     },
     "execution_count": 38,
     "metadata": {},
     "output_type": "execute_result"
    }
   ],
   "source": [
    "df = pd.read_csv('2019-Nov.csv')\n",
    "df.head()"
   ]
  },
  {
   "cell_type": "code",
   "execution_count": 39,
   "id": "4c596776",
   "metadata": {
    "scrolled": true
   },
   "outputs": [
    {
     "name": "stdout",
     "output_type": "stream",
     "text": [
      "<class 'pandas.core.frame.DataFrame'>\n",
      "RangeIndex: 4635837 entries, 0 to 4635836\n",
      "Data columns (total 9 columns):\n",
      " #   Column         Dtype  \n",
      "---  ------         -----  \n",
      " 0   event_time     object \n",
      " 1   event_type     object \n",
      " 2   product_id     int64  \n",
      " 3   category_id    int64  \n",
      " 4   category_code  object \n",
      " 5   brand          object \n",
      " 6   price          float64\n",
      " 7   user_id        int64  \n",
      " 8   user_session   object \n",
      "dtypes: float64(1), int64(3), object(5)\n",
      "memory usage: 318.3+ MB\n"
     ]
    }
   ],
   "source": [
    "df.info()"
   ]
  },
  {
   "cell_type": "code",
   "execution_count": 40,
   "id": "2356c980",
   "metadata": {},
   "outputs": [
    {
     "data": {
      "text/plain": [
       "(4635837, 9)"
      ]
     },
     "execution_count": 40,
     "metadata": {},
     "output_type": "execute_result"
    }
   ],
   "source": [
    "df.shape"
   ]
  },
  {
   "cell_type": "code",
   "execution_count": 41,
   "id": "b3bf1508",
   "metadata": {},
   "outputs": [
    {
     "data": {
      "text/plain": [
       "view                2076132\n",
       "cart                1311807\n",
       "remove_from_cart     925481\n",
       "purchase             322417\n",
       "Name: event_type, dtype: int64"
      ]
     },
     "execution_count": 41,
     "metadata": {},
     "output_type": "execute_result"
    }
   ],
   "source": [
    "df['event_type'].value_counts()"
   ]
  },
  {
   "cell_type": "code",
   "execution_count": 42,
   "id": "99a76af0",
   "metadata": {},
   "outputs": [],
   "source": [
    "df = df.query('event_type==\"purchase\"')"
   ]
  },
  {
   "cell_type": "code",
   "execution_count": 43,
   "id": "f9e497f0",
   "metadata": {},
   "outputs": [
    {
     "data": {
      "text/html": [
       "<div>\n",
       "<style scoped>\n",
       "    .dataframe tbody tr th:only-of-type {\n",
       "        vertical-align: middle;\n",
       "    }\n",
       "\n",
       "    .dataframe tbody tr th {\n",
       "        vertical-align: top;\n",
       "    }\n",
       "\n",
       "    .dataframe thead th {\n",
       "        text-align: right;\n",
       "    }\n",
       "</style>\n",
       "<table border=\"1\" class=\"dataframe\">\n",
       "  <thead>\n",
       "    <tr style=\"text-align: right;\">\n",
       "      <th></th>\n",
       "      <th>event_time</th>\n",
       "      <th>event_type</th>\n",
       "      <th>product_id</th>\n",
       "      <th>category_id</th>\n",
       "      <th>category_code</th>\n",
       "      <th>brand</th>\n",
       "      <th>price</th>\n",
       "      <th>user_id</th>\n",
       "      <th>user_session</th>\n",
       "    </tr>\n",
       "  </thead>\n",
       "  <tbody>\n",
       "    <tr>\n",
       "      <th>30</th>\n",
       "      <td>2019-11-01 00:01:57 UTC</td>\n",
       "      <td>purchase</td>\n",
       "      <td>5839412</td>\n",
       "      <td>1487580006551913373</td>\n",
       "      <td>NaN</td>\n",
       "      <td>lovely</td>\n",
       "      <td>3.16</td>\n",
       "      <td>460304619</td>\n",
       "      <td>9f777569-bdf3-47e5-a3d4-dfc26beb29cb</td>\n",
       "    </tr>\n",
       "    <tr>\n",
       "      <th>32</th>\n",
       "      <td>2019-11-01 00:01:57 UTC</td>\n",
       "      <td>purchase</td>\n",
       "      <td>5823969</td>\n",
       "      <td>1487580005268456287</td>\n",
       "      <td>NaN</td>\n",
       "      <td>uno</td>\n",
       "      <td>17.46</td>\n",
       "      <td>460304619</td>\n",
       "      <td>9f777569-bdf3-47e5-a3d4-dfc26beb29cb</td>\n",
       "    </tr>\n",
       "    <tr>\n",
       "      <th>33</th>\n",
       "      <td>2019-11-01 00:01:57 UTC</td>\n",
       "      <td>purchase</td>\n",
       "      <td>5810480</td>\n",
       "      <td>1487580011283087468</td>\n",
       "      <td>NaN</td>\n",
       "      <td>NaN</td>\n",
       "      <td>22.54</td>\n",
       "      <td>460304619</td>\n",
       "      <td>9f777569-bdf3-47e5-a3d4-dfc26beb29cb</td>\n",
       "    </tr>\n",
       "    <tr>\n",
       "      <th>61</th>\n",
       "      <td>2019-11-01 00:04:33 UTC</td>\n",
       "      <td>purchase</td>\n",
       "      <td>24380</td>\n",
       "      <td>1487580012994363565</td>\n",
       "      <td>NaN</td>\n",
       "      <td>depilflax</td>\n",
       "      <td>5.24</td>\n",
       "      <td>564451209</td>\n",
       "      <td>861ab2f1-b2e5-886f-a93b-5b067eff081f</td>\n",
       "    </tr>\n",
       "    <tr>\n",
       "      <th>62</th>\n",
       "      <td>2019-11-01 00:04:33 UTC</td>\n",
       "      <td>purchase</td>\n",
       "      <td>26765</td>\n",
       "      <td>1487580013522845895</td>\n",
       "      <td>NaN</td>\n",
       "      <td>ardell</td>\n",
       "      <td>7.16</td>\n",
       "      <td>564451209</td>\n",
       "      <td>861ab2f1-b2e5-886f-a93b-5b067eff081f</td>\n",
       "    </tr>\n",
       "  </tbody>\n",
       "</table>\n",
       "</div>"
      ],
      "text/plain": [
       "                 event_time event_type  product_id          category_id  \\\n",
       "30  2019-11-01 00:01:57 UTC   purchase     5839412  1487580006551913373   \n",
       "32  2019-11-01 00:01:57 UTC   purchase     5823969  1487580005268456287   \n",
       "33  2019-11-01 00:01:57 UTC   purchase     5810480  1487580011283087468   \n",
       "61  2019-11-01 00:04:33 UTC   purchase       24380  1487580012994363565   \n",
       "62  2019-11-01 00:04:33 UTC   purchase       26765  1487580013522845895   \n",
       "\n",
       "   category_code      brand  price    user_id  \\\n",
       "30           NaN     lovely   3.16  460304619   \n",
       "32           NaN        uno  17.46  460304619   \n",
       "33           NaN        NaN  22.54  460304619   \n",
       "61           NaN  depilflax   5.24  564451209   \n",
       "62           NaN     ardell   7.16  564451209   \n",
       "\n",
       "                            user_session  \n",
       "30  9f777569-bdf3-47e5-a3d4-dfc26beb29cb  \n",
       "32  9f777569-bdf3-47e5-a3d4-dfc26beb29cb  \n",
       "33  9f777569-bdf3-47e5-a3d4-dfc26beb29cb  \n",
       "61  861ab2f1-b2e5-886f-a93b-5b067eff081f  \n",
       "62  861ab2f1-b2e5-886f-a93b-5b067eff081f  "
      ]
     },
     "execution_count": 43,
     "metadata": {},
     "output_type": "execute_result"
    }
   ],
   "source": [
    "df.head()"
   ]
  },
  {
   "cell_type": "code",
   "execution_count": 44,
   "id": "e220e992",
   "metadata": {},
   "outputs": [
    {
     "data": {
      "text/plain": [
       "(322417, 9)"
      ]
     },
     "execution_count": 44,
     "metadata": {},
     "output_type": "execute_result"
    }
   ],
   "source": [
    "df.shape"
   ]
  },
  {
   "cell_type": "code",
   "execution_count": 45,
   "id": "518af7a3",
   "metadata": {},
   "outputs": [],
   "source": [
    "df.drop(['product_id', 'category_id','category_code','brand','user_session'], axis=1, inplace=True)"
   ]
  },
  {
   "cell_type": "code",
   "execution_count": 46,
   "id": "4b2f681d",
   "metadata": {},
   "outputs": [
    {
     "data": {
      "text/html": [
       "<div>\n",
       "<style scoped>\n",
       "    .dataframe tbody tr th:only-of-type {\n",
       "        vertical-align: middle;\n",
       "    }\n",
       "\n",
       "    .dataframe tbody tr th {\n",
       "        vertical-align: top;\n",
       "    }\n",
       "\n",
       "    .dataframe thead th {\n",
       "        text-align: right;\n",
       "    }\n",
       "</style>\n",
       "<table border=\"1\" class=\"dataframe\">\n",
       "  <thead>\n",
       "    <tr style=\"text-align: right;\">\n",
       "      <th></th>\n",
       "      <th>event_time</th>\n",
       "      <th>event_type</th>\n",
       "      <th>price</th>\n",
       "      <th>user_id</th>\n",
       "    </tr>\n",
       "  </thead>\n",
       "  <tbody>\n",
       "    <tr>\n",
       "      <th>30</th>\n",
       "      <td>2019-11-01 00:01:57 UTC</td>\n",
       "      <td>purchase</td>\n",
       "      <td>3.16</td>\n",
       "      <td>460304619</td>\n",
       "    </tr>\n",
       "    <tr>\n",
       "      <th>32</th>\n",
       "      <td>2019-11-01 00:01:57 UTC</td>\n",
       "      <td>purchase</td>\n",
       "      <td>17.46</td>\n",
       "      <td>460304619</td>\n",
       "    </tr>\n",
       "    <tr>\n",
       "      <th>33</th>\n",
       "      <td>2019-11-01 00:01:57 UTC</td>\n",
       "      <td>purchase</td>\n",
       "      <td>22.54</td>\n",
       "      <td>460304619</td>\n",
       "    </tr>\n",
       "    <tr>\n",
       "      <th>61</th>\n",
       "      <td>2019-11-01 00:04:33 UTC</td>\n",
       "      <td>purchase</td>\n",
       "      <td>5.24</td>\n",
       "      <td>564451209</td>\n",
       "    </tr>\n",
       "    <tr>\n",
       "      <th>62</th>\n",
       "      <td>2019-11-01 00:04:33 UTC</td>\n",
       "      <td>purchase</td>\n",
       "      <td>7.16</td>\n",
       "      <td>564451209</td>\n",
       "    </tr>\n",
       "  </tbody>\n",
       "</table>\n",
       "</div>"
      ],
      "text/plain": [
       "                 event_time event_type  price    user_id\n",
       "30  2019-11-01 00:01:57 UTC   purchase   3.16  460304619\n",
       "32  2019-11-01 00:01:57 UTC   purchase  17.46  460304619\n",
       "33  2019-11-01 00:01:57 UTC   purchase  22.54  460304619\n",
       "61  2019-11-01 00:04:33 UTC   purchase   5.24  564451209\n",
       "62  2019-11-01 00:04:33 UTC   purchase   7.16  564451209"
      ]
     },
     "execution_count": 46,
     "metadata": {},
     "output_type": "execute_result"
    }
   ],
   "source": [
    "df.head()"
   ]
  },
  {
   "cell_type": "code",
   "execution_count": 47,
   "id": "d8667ffe",
   "metadata": {},
   "outputs": [
    {
     "data": {
      "text/plain": [
       "85701"
      ]
     },
     "execution_count": 47,
     "metadata": {},
     "output_type": "execute_result"
    }
   ],
   "source": [
    "df.duplicated().sum()"
   ]
  },
  {
   "cell_type": "code",
   "execution_count": 48,
   "id": "c8e8a1c0",
   "metadata": {},
   "outputs": [],
   "source": [
    "df.drop_duplicates(inplace=True)"
   ]
  },
  {
   "cell_type": "code",
   "execution_count": 49,
   "id": "2df00c03",
   "metadata": {},
   "outputs": [
    {
     "data": {
      "text/plain": [
       "(236716, 4)"
      ]
     },
     "execution_count": 49,
     "metadata": {},
     "output_type": "execute_result"
    }
   ],
   "source": [
    "df.shape"
   ]
  },
  {
   "cell_type": "code",
   "execution_count": 50,
   "id": "0add5aa5",
   "metadata": {},
   "outputs": [
    {
     "data": {
      "text/html": [
       "<div>\n",
       "<style scoped>\n",
       "    .dataframe tbody tr th:only-of-type {\n",
       "        vertical-align: middle;\n",
       "    }\n",
       "\n",
       "    .dataframe tbody tr th {\n",
       "        vertical-align: top;\n",
       "    }\n",
       "\n",
       "    .dataframe thead th {\n",
       "        text-align: right;\n",
       "    }\n",
       "</style>\n",
       "<table border=\"1\" class=\"dataframe\">\n",
       "  <thead>\n",
       "    <tr style=\"text-align: right;\">\n",
       "      <th></th>\n",
       "      <th>event_time</th>\n",
       "      <th>event_type</th>\n",
       "      <th>price</th>\n",
       "      <th>user_id</th>\n",
       "    </tr>\n",
       "  </thead>\n",
       "  <tbody>\n",
       "    <tr>\n",
       "      <th>30</th>\n",
       "      <td>2019-11-01 00:01:57 UTC</td>\n",
       "      <td>purchase</td>\n",
       "      <td>3.16</td>\n",
       "      <td>460304619</td>\n",
       "    </tr>\n",
       "    <tr>\n",
       "      <th>32</th>\n",
       "      <td>2019-11-01 00:01:57 UTC</td>\n",
       "      <td>purchase</td>\n",
       "      <td>17.46</td>\n",
       "      <td>460304619</td>\n",
       "    </tr>\n",
       "    <tr>\n",
       "      <th>33</th>\n",
       "      <td>2019-11-01 00:01:57 UTC</td>\n",
       "      <td>purchase</td>\n",
       "      <td>22.54</td>\n",
       "      <td>460304619</td>\n",
       "    </tr>\n",
       "    <tr>\n",
       "      <th>61</th>\n",
       "      <td>2019-11-01 00:04:33 UTC</td>\n",
       "      <td>purchase</td>\n",
       "      <td>5.24</td>\n",
       "      <td>564451209</td>\n",
       "    </tr>\n",
       "    <tr>\n",
       "      <th>62</th>\n",
       "      <td>2019-11-01 00:04:33 UTC</td>\n",
       "      <td>purchase</td>\n",
       "      <td>7.16</td>\n",
       "      <td>564451209</td>\n",
       "    </tr>\n",
       "  </tbody>\n",
       "</table>\n",
       "</div>"
      ],
      "text/plain": [
       "                 event_time event_type  price    user_id\n",
       "30  2019-11-01 00:01:57 UTC   purchase   3.16  460304619\n",
       "32  2019-11-01 00:01:57 UTC   purchase  17.46  460304619\n",
       "33  2019-11-01 00:01:57 UTC   purchase  22.54  460304619\n",
       "61  2019-11-01 00:04:33 UTC   purchase   5.24  564451209\n",
       "62  2019-11-01 00:04:33 UTC   purchase   7.16  564451209"
      ]
     },
     "execution_count": 50,
     "metadata": {},
     "output_type": "execute_result"
    }
   ],
   "source": [
    "df.head()"
   ]
  },
  {
   "cell_type": "code",
   "execution_count": 51,
   "id": "e468f755",
   "metadata": {
    "scrolled": true
   },
   "outputs": [
    {
     "name": "stdout",
     "output_type": "stream",
     "text": [
      "<class 'pandas.core.frame.DataFrame'>\n",
      "Int64Index: 236716 entries, 30 to 4634839\n",
      "Data columns (total 4 columns):\n",
      " #   Column      Non-Null Count   Dtype              \n",
      "---  ------      --------------   -----              \n",
      " 0   event_time  236716 non-null  datetime64[ns, UTC]\n",
      " 1   event_type  236716 non-null  object             \n",
      " 2   price       236716 non-null  float64            \n",
      " 3   user_id     236716 non-null  int64              \n",
      "dtypes: datetime64[ns, UTC](1), float64(1), int64(1), object(1)\n",
      "memory usage: 9.0+ MB\n"
     ]
    }
   ],
   "source": [
    "df['event_time'] = pd.to_datetime(df['event_time'])\n",
    "df.info()"
   ]
  },
  {
   "cell_type": "code",
   "execution_count": 52,
   "id": "5f21c7a5",
   "metadata": {},
   "outputs": [
    {
     "data": {
      "text/html": [
       "<div>\n",
       "<style scoped>\n",
       "    .dataframe tbody tr th:only-of-type {\n",
       "        vertical-align: middle;\n",
       "    }\n",
       "\n",
       "    .dataframe tbody tr th {\n",
       "        vertical-align: top;\n",
       "    }\n",
       "\n",
       "    .dataframe thead th {\n",
       "        text-align: right;\n",
       "    }\n",
       "</style>\n",
       "<table border=\"1\" class=\"dataframe\">\n",
       "  <thead>\n",
       "    <tr style=\"text-align: right;\">\n",
       "      <th></th>\n",
       "      <th>event_time</th>\n",
       "      <th>event_type</th>\n",
       "      <th>price</th>\n",
       "      <th>user_id</th>\n",
       "    </tr>\n",
       "  </thead>\n",
       "  <tbody>\n",
       "    <tr>\n",
       "      <th>30</th>\n",
       "      <td>2019-11-01 00:01:57+00:00</td>\n",
       "      <td>purchase</td>\n",
       "      <td>3.16</td>\n",
       "      <td>460304619</td>\n",
       "    </tr>\n",
       "    <tr>\n",
       "      <th>32</th>\n",
       "      <td>2019-11-01 00:01:57+00:00</td>\n",
       "      <td>purchase</td>\n",
       "      <td>17.46</td>\n",
       "      <td>460304619</td>\n",
       "    </tr>\n",
       "    <tr>\n",
       "      <th>33</th>\n",
       "      <td>2019-11-01 00:01:57+00:00</td>\n",
       "      <td>purchase</td>\n",
       "      <td>22.54</td>\n",
       "      <td>460304619</td>\n",
       "    </tr>\n",
       "    <tr>\n",
       "      <th>61</th>\n",
       "      <td>2019-11-01 00:04:33+00:00</td>\n",
       "      <td>purchase</td>\n",
       "      <td>5.24</td>\n",
       "      <td>564451209</td>\n",
       "    </tr>\n",
       "    <tr>\n",
       "      <th>62</th>\n",
       "      <td>2019-11-01 00:04:33+00:00</td>\n",
       "      <td>purchase</td>\n",
       "      <td>7.16</td>\n",
       "      <td>564451209</td>\n",
       "    </tr>\n",
       "  </tbody>\n",
       "</table>\n",
       "</div>"
      ],
      "text/plain": [
       "                  event_time event_type  price    user_id\n",
       "30 2019-11-01 00:01:57+00:00   purchase   3.16  460304619\n",
       "32 2019-11-01 00:01:57+00:00   purchase  17.46  460304619\n",
       "33 2019-11-01 00:01:57+00:00   purchase  22.54  460304619\n",
       "61 2019-11-01 00:04:33+00:00   purchase   5.24  564451209\n",
       "62 2019-11-01 00:04:33+00:00   purchase   7.16  564451209"
      ]
     },
     "execution_count": 52,
     "metadata": {},
     "output_type": "execute_result"
    }
   ],
   "source": [
    "df.head()"
   ]
  },
  {
   "cell_type": "code",
   "execution_count": 53,
   "id": "acddea44",
   "metadata": {},
   "outputs": [
    {
     "data": {
      "text/plain": [
       "(Timestamp('2019-11-30 23:24:54+0000', tz='UTC'),\n",
       " Timestamp('2019-11-01 00:01:57+0000', tz='UTC'))"
      ]
     },
     "execution_count": 53,
     "metadata": {},
     "output_type": "execute_result"
    }
   ],
   "source": [
    "df['event_time'].max() , df['event_time'].min()"
   ]
  },
  {
   "cell_type": "code",
   "execution_count": 54,
   "id": "902be19c",
   "metadata": {},
   "outputs": [
    {
     "name": "stdout",
     "output_type": "stream",
     "text": [
      "UTC\n"
     ]
    },
    {
     "data": {
      "text/plain": [
       "datetime.datetime(2019, 11, 30, 22, 0, tzinfo=<UTC>)"
      ]
     },
     "execution_count": 54,
     "metadata": {},
     "output_type": "execute_result"
    }
   ],
   "source": [
    "today = dt.datetime(2019,12,1)\n",
    "today = today.astimezone(pytz.UTC)\n",
    "print(today.tzinfo)\n",
    "today"
   ]
  },
  {
   "cell_type": "code",
   "execution_count": 55,
   "id": "6146fd0b",
   "metadata": {},
   "outputs": [
    {
     "data": {
      "text/html": [
       "<div>\n",
       "<style scoped>\n",
       "    .dataframe tbody tr th:only-of-type {\n",
       "        vertical-align: middle;\n",
       "    }\n",
       "\n",
       "    .dataframe tbody tr th {\n",
       "        vertical-align: top;\n",
       "    }\n",
       "\n",
       "    .dataframe thead th {\n",
       "        text-align: right;\n",
       "    }\n",
       "</style>\n",
       "<table border=\"1\" class=\"dataframe\">\n",
       "  <thead>\n",
       "    <tr style=\"text-align: right;\">\n",
       "      <th></th>\n",
       "      <th>event_time</th>\n",
       "      <th>event_type</th>\n",
       "      <th>price</th>\n",
       "    </tr>\n",
       "    <tr>\n",
       "      <th>user_id</th>\n",
       "      <th></th>\n",
       "      <th></th>\n",
       "      <th></th>\n",
       "    </tr>\n",
       "  </thead>\n",
       "  <tbody>\n",
       "    <tr>\n",
       "      <th>9794320</th>\n",
       "      <td>5</td>\n",
       "      <td>2</td>\n",
       "      <td>7.72</td>\n",
       "    </tr>\n",
       "    <tr>\n",
       "      <th>10079204</th>\n",
       "      <td>24</td>\n",
       "      <td>2</td>\n",
       "      <td>25.81</td>\n",
       "    </tr>\n",
       "    <tr>\n",
       "      <th>10280338</th>\n",
       "      <td>9</td>\n",
       "      <td>10</td>\n",
       "      <td>34.72</td>\n",
       "    </tr>\n",
       "    <tr>\n",
       "      <th>15781728</th>\n",
       "      <td>13</td>\n",
       "      <td>2</td>\n",
       "      <td>20.31</td>\n",
       "    </tr>\n",
       "    <tr>\n",
       "      <th>19762782</th>\n",
       "      <td>20</td>\n",
       "      <td>2</td>\n",
       "      <td>20.29</td>\n",
       "    </tr>\n",
       "  </tbody>\n",
       "</table>\n",
       "</div>"
      ],
      "text/plain": [
       "          event_time  event_type  price\n",
       "user_id                                \n",
       "9794320            5           2   7.72\n",
       "10079204          24           2  25.81\n",
       "10280338           9          10  34.72\n",
       "15781728          13           2  20.31\n",
       "19762782          20           2  20.29"
      ]
     },
     "execution_count": 55,
     "metadata": {},
     "output_type": "execute_result"
    }
   ],
   "source": [
    "rfm = df.groupby('user_id').agg({'event_time':lambda date:(today-date.max()).days,\n",
    "                                'event_type':lambda purchase:len(purchase),\n",
    "                                'price':lambda price:price.sum()})\n",
    "rfm.head()"
   ]
  },
  {
   "cell_type": "code",
   "execution_count": 56,
   "id": "e8c7bb8a",
   "metadata": {},
   "outputs": [
    {
     "data": {
      "text/html": [
       "<div>\n",
       "<style scoped>\n",
       "    .dataframe tbody tr th:only-of-type {\n",
       "        vertical-align: middle;\n",
       "    }\n",
       "\n",
       "    .dataframe tbody tr th {\n",
       "        vertical-align: top;\n",
       "    }\n",
       "\n",
       "    .dataframe thead th {\n",
       "        text-align: right;\n",
       "    }\n",
       "</style>\n",
       "<table border=\"1\" class=\"dataframe\">\n",
       "  <thead>\n",
       "    <tr style=\"text-align: right;\">\n",
       "      <th></th>\n",
       "      <th>Recency</th>\n",
       "      <th>Frequency</th>\n",
       "      <th>Monetary</th>\n",
       "    </tr>\n",
       "    <tr>\n",
       "      <th>user_id</th>\n",
       "      <th></th>\n",
       "      <th></th>\n",
       "      <th></th>\n",
       "    </tr>\n",
       "  </thead>\n",
       "  <tbody>\n",
       "    <tr>\n",
       "      <th>9794320</th>\n",
       "      <td>5</td>\n",
       "      <td>2</td>\n",
       "      <td>7.72</td>\n",
       "    </tr>\n",
       "    <tr>\n",
       "      <th>10079204</th>\n",
       "      <td>24</td>\n",
       "      <td>2</td>\n",
       "      <td>25.81</td>\n",
       "    </tr>\n",
       "    <tr>\n",
       "      <th>10280338</th>\n",
       "      <td>9</td>\n",
       "      <td>10</td>\n",
       "      <td>34.72</td>\n",
       "    </tr>\n",
       "    <tr>\n",
       "      <th>15781728</th>\n",
       "      <td>13</td>\n",
       "      <td>2</td>\n",
       "      <td>20.31</td>\n",
       "    </tr>\n",
       "    <tr>\n",
       "      <th>19762782</th>\n",
       "      <td>20</td>\n",
       "      <td>2</td>\n",
       "      <td>20.29</td>\n",
       "    </tr>\n",
       "  </tbody>\n",
       "</table>\n",
       "</div>"
      ],
      "text/plain": [
       "          Recency  Frequency  Monetary\n",
       "user_id                               \n",
       "9794320         5          2      7.72\n",
       "10079204       24          2     25.81\n",
       "10280338        9         10     34.72\n",
       "15781728       13          2     20.31\n",
       "19762782       20          2     20.29"
      ]
     },
     "execution_count": 56,
     "metadata": {},
     "output_type": "execute_result"
    }
   ],
   "source": [
    "rfm.columns=['Recency','Frequency','Monetary']\n",
    "rfm.head()"
   ]
  },
  {
   "cell_type": "code",
   "execution_count": 57,
   "id": "c6e3036e",
   "metadata": {},
   "outputs": [
    {
     "data": {
      "text/html": [
       "<div>\n",
       "<style scoped>\n",
       "    .dataframe tbody tr th:only-of-type {\n",
       "        vertical-align: middle;\n",
       "    }\n",
       "\n",
       "    .dataframe tbody tr th {\n",
       "        vertical-align: top;\n",
       "    }\n",
       "\n",
       "    .dataframe thead th {\n",
       "        text-align: right;\n",
       "    }\n",
       "</style>\n",
       "<table border=\"1\" class=\"dataframe\">\n",
       "  <thead>\n",
       "    <tr style=\"text-align: right;\">\n",
       "      <th></th>\n",
       "      <th>Recency</th>\n",
       "      <th>Frequency</th>\n",
       "      <th>Monetary</th>\n",
       "      <th>R</th>\n",
       "      <th>F</th>\n",
       "      <th>M</th>\n",
       "    </tr>\n",
       "    <tr>\n",
       "      <th>user_id</th>\n",
       "      <th></th>\n",
       "      <th></th>\n",
       "      <th></th>\n",
       "      <th></th>\n",
       "      <th></th>\n",
       "      <th></th>\n",
       "    </tr>\n",
       "  </thead>\n",
       "  <tbody>\n",
       "    <tr>\n",
       "      <th>9794320</th>\n",
       "      <td>5</td>\n",
       "      <td>2</td>\n",
       "      <td>7.72</td>\n",
       "      <td>1</td>\n",
       "      <td>4</td>\n",
       "      <td>4</td>\n",
       "    </tr>\n",
       "    <tr>\n",
       "      <th>10079204</th>\n",
       "      <td>24</td>\n",
       "      <td>2</td>\n",
       "      <td>25.81</td>\n",
       "      <td>4</td>\n",
       "      <td>4</td>\n",
       "      <td>3</td>\n",
       "    </tr>\n",
       "    <tr>\n",
       "      <th>10280338</th>\n",
       "      <td>9</td>\n",
       "      <td>10</td>\n",
       "      <td>34.72</td>\n",
       "      <td>2</td>\n",
       "      <td>2</td>\n",
       "      <td>2</td>\n",
       "    </tr>\n",
       "    <tr>\n",
       "      <th>15781728</th>\n",
       "      <td>13</td>\n",
       "      <td>2</td>\n",
       "      <td>20.31</td>\n",
       "      <td>3</td>\n",
       "      <td>4</td>\n",
       "      <td>3</td>\n",
       "    </tr>\n",
       "    <tr>\n",
       "      <th>19762782</th>\n",
       "      <td>20</td>\n",
       "      <td>2</td>\n",
       "      <td>20.29</td>\n",
       "      <td>3</td>\n",
       "      <td>4</td>\n",
       "      <td>3</td>\n",
       "    </tr>\n",
       "  </tbody>\n",
       "</table>\n",
       "</div>"
      ],
      "text/plain": [
       "          Recency  Frequency  Monetary  R  F  M\n",
       "user_id                                        \n",
       "9794320         5          2      7.72  1  4  4\n",
       "10079204       24          2     25.81  4  4  3\n",
       "10280338        9         10     34.72  2  2  2\n",
       "15781728       13          2     20.31  3  4  3\n",
       "19762782       20          2     20.29  3  4  3"
      ]
     },
     "execution_count": 57,
     "metadata": {},
     "output_type": "execute_result"
    }
   ],
   "source": [
    "rfm['R'] = pd.qcut(rfm['Recency'],4, ['1','2','3','4'])\n",
    "rfm['F'] = pd.qcut(rfm['Frequency'],4,['4','3','2','1'])\n",
    "rfm['M'] = pd.qcut(rfm['Monetary'],4,['4','3','2','1'])\n",
    "rfm.head()"
   ]
  },
  {
   "cell_type": "code",
   "execution_count": 58,
   "id": "bc0d15af",
   "metadata": {},
   "outputs": [
    {
     "data": {
      "text/html": [
       "<div>\n",
       "<style scoped>\n",
       "    .dataframe tbody tr th:only-of-type {\n",
       "        vertical-align: middle;\n",
       "    }\n",
       "\n",
       "    .dataframe tbody tr th {\n",
       "        vertical-align: top;\n",
       "    }\n",
       "\n",
       "    .dataframe thead th {\n",
       "        text-align: right;\n",
       "    }\n",
       "</style>\n",
       "<table border=\"1\" class=\"dataframe\">\n",
       "  <thead>\n",
       "    <tr style=\"text-align: right;\">\n",
       "      <th></th>\n",
       "      <th>Recency</th>\n",
       "      <th>Frequency</th>\n",
       "      <th>Monetary</th>\n",
       "      <th>R</th>\n",
       "      <th>F</th>\n",
       "      <th>M</th>\n",
       "      <th>RFM_Score</th>\n",
       "    </tr>\n",
       "    <tr>\n",
       "      <th>user_id</th>\n",
       "      <th></th>\n",
       "      <th></th>\n",
       "      <th></th>\n",
       "      <th></th>\n",
       "      <th></th>\n",
       "      <th></th>\n",
       "      <th></th>\n",
       "    </tr>\n",
       "  </thead>\n",
       "  <tbody>\n",
       "    <tr>\n",
       "      <th>9794320</th>\n",
       "      <td>5</td>\n",
       "      <td>2</td>\n",
       "      <td>7.72</td>\n",
       "      <td>1</td>\n",
       "      <td>4</td>\n",
       "      <td>4</td>\n",
       "      <td>144</td>\n",
       "    </tr>\n",
       "    <tr>\n",
       "      <th>10079204</th>\n",
       "      <td>24</td>\n",
       "      <td>2</td>\n",
       "      <td>25.81</td>\n",
       "      <td>4</td>\n",
       "      <td>4</td>\n",
       "      <td>3</td>\n",
       "      <td>443</td>\n",
       "    </tr>\n",
       "    <tr>\n",
       "      <th>10280338</th>\n",
       "      <td>9</td>\n",
       "      <td>10</td>\n",
       "      <td>34.72</td>\n",
       "      <td>2</td>\n",
       "      <td>2</td>\n",
       "      <td>2</td>\n",
       "      <td>222</td>\n",
       "    </tr>\n",
       "    <tr>\n",
       "      <th>15781728</th>\n",
       "      <td>13</td>\n",
       "      <td>2</td>\n",
       "      <td>20.31</td>\n",
       "      <td>3</td>\n",
       "      <td>4</td>\n",
       "      <td>3</td>\n",
       "      <td>343</td>\n",
       "    </tr>\n",
       "    <tr>\n",
       "      <th>19762782</th>\n",
       "      <td>20</td>\n",
       "      <td>2</td>\n",
       "      <td>20.29</td>\n",
       "      <td>3</td>\n",
       "      <td>4</td>\n",
       "      <td>3</td>\n",
       "      <td>343</td>\n",
       "    </tr>\n",
       "  </tbody>\n",
       "</table>\n",
       "</div>"
      ],
      "text/plain": [
       "          Recency  Frequency  Monetary  R  F  M RFM_Score\n",
       "user_id                                                  \n",
       "9794320         5          2      7.72  1  4  4       144\n",
       "10079204       24          2     25.81  4  4  3       443\n",
       "10280338        9         10     34.72  2  2  2       222\n",
       "15781728       13          2     20.31  3  4  3       343\n",
       "19762782       20          2     20.29  3  4  3       343"
      ]
     },
     "execution_count": 58,
     "metadata": {},
     "output_type": "execute_result"
    }
   ],
   "source": [
    "rfm['RFM_Score'] = rfm['R'].astype(str)+ rfm['F'].astype(str) + rfm['M'].astype(str)\n",
    "rfm.head()"
   ]
  },
  {
   "cell_type": "code",
   "execution_count": 59,
   "id": "1c99c071",
   "metadata": {},
   "outputs": [
    {
     "data": {
      "text/html": [
       "<div>\n",
       "<style scoped>\n",
       "    .dataframe tbody tr th:only-of-type {\n",
       "        vertical-align: middle;\n",
       "    }\n",
       "\n",
       "    .dataframe tbody tr th {\n",
       "        vertical-align: top;\n",
       "    }\n",
       "\n",
       "    .dataframe thead th {\n",
       "        text-align: right;\n",
       "    }\n",
       "</style>\n",
       "<table border=\"1\" class=\"dataframe\">\n",
       "  <thead>\n",
       "    <tr style=\"text-align: right;\">\n",
       "      <th></th>\n",
       "      <th>Recency</th>\n",
       "      <th>Frequency</th>\n",
       "      <th>Monetary</th>\n",
       "      <th>R</th>\n",
       "      <th>F</th>\n",
       "      <th>M</th>\n",
       "      <th>RFM_Score</th>\n",
       "    </tr>\n",
       "    <tr>\n",
       "      <th>user_id</th>\n",
       "      <th></th>\n",
       "      <th></th>\n",
       "      <th></th>\n",
       "      <th></th>\n",
       "      <th></th>\n",
       "      <th></th>\n",
       "      <th></th>\n",
       "    </tr>\n",
       "  </thead>\n",
       "  <tbody>\n",
       "    <tr>\n",
       "      <th>546880217</th>\n",
       "      <td>2</td>\n",
       "      <td>38</td>\n",
       "      <td>980.87</td>\n",
       "      <td>1</td>\n",
       "      <td>1</td>\n",
       "      <td>1</td>\n",
       "      <td>111</td>\n",
       "    </tr>\n",
       "    <tr>\n",
       "      <th>539636703</th>\n",
       "      <td>1</td>\n",
       "      <td>108</td>\n",
       "      <td>773.86</td>\n",
       "      <td>1</td>\n",
       "      <td>1</td>\n",
       "      <td>1</td>\n",
       "      <td>111</td>\n",
       "    </tr>\n",
       "    <tr>\n",
       "      <th>400911344</th>\n",
       "      <td>1</td>\n",
       "      <td>67</td>\n",
       "      <td>744.04</td>\n",
       "      <td>1</td>\n",
       "      <td>1</td>\n",
       "      <td>1</td>\n",
       "      <td>111</td>\n",
       "    </tr>\n",
       "    <tr>\n",
       "      <th>578153500</th>\n",
       "      <td>2</td>\n",
       "      <td>24</td>\n",
       "      <td>679.19</td>\n",
       "      <td>1</td>\n",
       "      <td>1</td>\n",
       "      <td>1</td>\n",
       "      <td>111</td>\n",
       "    </tr>\n",
       "    <tr>\n",
       "      <th>247216055</th>\n",
       "      <td>1</td>\n",
       "      <td>81</td>\n",
       "      <td>665.59</td>\n",
       "      <td>1</td>\n",
       "      <td>1</td>\n",
       "      <td>1</td>\n",
       "      <td>111</td>\n",
       "    </tr>\n",
       "  </tbody>\n",
       "</table>\n",
       "</div>"
      ],
      "text/plain": [
       "           Recency  Frequency  Monetary  R  F  M RFM_Score\n",
       "user_id                                                   \n",
       "546880217        2         38    980.87  1  1  1       111\n",
       "539636703        1        108    773.86  1  1  1       111\n",
       "400911344        1         67    744.04  1  1  1       111\n",
       "578153500        2         24    679.19  1  1  1       111\n",
       "247216055        1         81    665.59  1  1  1       111"
      ]
     },
     "execution_count": 59,
     "metadata": {},
     "output_type": "execute_result"
    }
   ],
   "source": [
    "rfm.sort_values(by=['RFM_Score', 'Monetary'], ascending=[True, False]).head()"
   ]
  },
  {
   "cell_type": "code",
   "execution_count": 60,
   "id": "42ce137d",
   "metadata": {},
   "outputs": [
    {
     "data": {
      "text/plain": [
       "<AxesSubplot:xlabel='RFM_Score'>"
      ]
     },
     "execution_count": 60,
     "metadata": {},
     "output_type": "execute_result"
    },
    {
     "data": {
      "image/png": "[encoded data removed]",
      "text/plain": [
       "<Figure size 432x288 with 1 Axes>"
      ]
     },
     "metadata": {
      "needs_background": "light"
     },
     "output_type": "display_data"
    }
   ],
   "source": [
    "rfm.groupby('RFM_Score')['Monetary'].mean().plot(kind='bar')"
   ]
  },
  {
   "cell_type": "code",
   "execution_count": 61,
   "id": "30e9d25f",
   "metadata": {},
   "outputs": [
    {
     "data": {
      "text/html": [
       "<div>\n",
       "<style scoped>\n",
       "    .dataframe tbody tr th:only-of-type {\n",
       "        vertical-align: middle;\n",
       "    }\n",
       "\n",
       "    .dataframe tbody tr th {\n",
       "        vertical-align: top;\n",
       "    }\n",
       "\n",
       "    .dataframe thead th {\n",
       "        text-align: right;\n",
       "    }\n",
       "</style>\n",
       "<table border=\"1\" class=\"dataframe\">\n",
       "  <thead>\n",
       "    <tr style=\"text-align: right;\">\n",
       "      <th></th>\n",
       "      <th>Recency</th>\n",
       "      <th>Frequency</th>\n",
       "      <th>Monetary</th>\n",
       "      <th>R</th>\n",
       "      <th>F</th>\n",
       "      <th>M</th>\n",
       "      <th>RFM_Score</th>\n",
       "      <th>Total_score</th>\n",
       "    </tr>\n",
       "    <tr>\n",
       "      <th>user_id</th>\n",
       "      <th></th>\n",
       "      <th></th>\n",
       "      <th></th>\n",
       "      <th></th>\n",
       "      <th></th>\n",
       "      <th></th>\n",
       "      <th></th>\n",
       "      <th></th>\n",
       "    </tr>\n",
       "  </thead>\n",
       "  <tbody>\n",
       "    <tr>\n",
       "      <th>9794320</th>\n",
       "      <td>5</td>\n",
       "      <td>2</td>\n",
       "      <td>7.72</td>\n",
       "      <td>1</td>\n",
       "      <td>4</td>\n",
       "      <td>4</td>\n",
       "      <td>144</td>\n",
       "      <td>9</td>\n",
       "    </tr>\n",
       "    <tr>\n",
       "      <th>10079204</th>\n",
       "      <td>24</td>\n",
       "      <td>2</td>\n",
       "      <td>25.81</td>\n",
       "      <td>4</td>\n",
       "      <td>4</td>\n",
       "      <td>3</td>\n",
       "      <td>443</td>\n",
       "      <td>11</td>\n",
       "    </tr>\n",
       "    <tr>\n",
       "      <th>10280338</th>\n",
       "      <td>9</td>\n",
       "      <td>10</td>\n",
       "      <td>34.72</td>\n",
       "      <td>2</td>\n",
       "      <td>2</td>\n",
       "      <td>2</td>\n",
       "      <td>222</td>\n",
       "      <td>6</td>\n",
       "    </tr>\n",
       "    <tr>\n",
       "      <th>15781728</th>\n",
       "      <td>13</td>\n",
       "      <td>2</td>\n",
       "      <td>20.31</td>\n",
       "      <td>3</td>\n",
       "      <td>4</td>\n",
       "      <td>3</td>\n",
       "      <td>343</td>\n",
       "      <td>10</td>\n",
       "    </tr>\n",
       "    <tr>\n",
       "      <th>19762782</th>\n",
       "      <td>20</td>\n",
       "      <td>2</td>\n",
       "      <td>20.29</td>\n",
       "      <td>3</td>\n",
       "      <td>4</td>\n",
       "      <td>3</td>\n",
       "      <td>343</td>\n",
       "      <td>10</td>\n",
       "    </tr>\n",
       "  </tbody>\n",
       "</table>\n",
       "</div>"
      ],
      "text/plain": [
       "          Recency  Frequency  Monetary  R  F  M RFM_Score  Total_score\n",
       "user_id                                                               \n",
       "9794320         5          2      7.72  1  4  4       144            9\n",
       "10079204       24          2     25.81  4  4  3       443           11\n",
       "10280338        9         10     34.72  2  2  2       222            6\n",
       "15781728       13          2     20.31  3  4  3       343           10\n",
       "19762782       20          2     20.29  3  4  3       343           10"
      ]
     },
     "execution_count": 61,
     "metadata": {},
     "output_type": "execute_result"
    }
   ],
   "source": [
    "rfm['Total_score'] = rfm['R'].astype(int) + rfm['F'].astype(int) + rfm['M'].astype(int)\n",
    "rfm.head()"
   ]
  },
  {
   "cell_type": "code",
   "execution_count": 62,
   "id": "3b412620",
   "metadata": {},
   "outputs": [
    {
     "data": {
      "text/plain": [
       "<AxesSubplot:xlabel='Total_score'>"
      ]
     },
     "execution_count": 62,
     "metadata": {},
     "output_type": "execute_result"
    },
    {
     "data": {
      "image/png": "[encoded data removed]",
      "text/plain": [
       "<Figure size 432x288 with 1 Axes>"
      ]
     },
     "metadata": {
      "needs_background": "light"
     },
     "output_type": "display_data"
    }
   ],
   "source": [
    "rfm.groupby('Total_score')['Monetary'].mean().plot.bar()"
   ]
  },
  {
   "cell_type": "code",
   "execution_count": 63,
   "id": "fc7e2718",
   "metadata": {},
   "outputs": [
    {
     "data": {
      "text/plain": [
       "<AxesSubplot:xlabel='Total_score'>"
      ]
     },
     "execution_count": 63,
     "metadata": {},
     "output_type": "execute_result"
    },
    {
     "data": {
      "image/png": "[encoded data removed]",
      "text/plain": [
       "<Figure size 432x288 with 1 Axes>"
      ]
     },
     "metadata": {
      "needs_background": "light"
     },
     "output_type": "display_data"
    }
   ],
   "source": [
    "rfm.groupby('Total_score')['Frequency'].mean().plot.bar()"
   ]
  },
  {
   "cell_type": "code",
   "execution_count": 64,
   "id": "5c2053a4",
   "metadata": {},
   "outputs": [
    {
     "data": {
      "text/plain": [
       "<AxesSubplot:xlabel='Total_score'>"
      ]
     },
     "execution_count": 64,
     "metadata": {},
     "output_type": "execute_result"
    },
    {
     "data": {
      "image/png": "[encoded data removed]",
      "text/plain": [
       "<Figure size 432x288 with 1 Axes>"
      ]
     },
     "metadata": {
      "needs_background": "light"
     },
     "output_type": "display_data"
    }
   ],
   "source": [
    "rfm.groupby('Total_score')['Recency'].mean().plot.bar()"
   ]
  },
  {
   "cell_type": "code",
   "execution_count": 65,
   "id": "673cfdf3",
   "metadata": {
    "scrolled": true
   },
   "outputs": [
    {
     "name": "stdout",
     "output_type": "stream",
     "text": [
      "Best Customers:  1952\n",
      "Loyal Customers:  7096\n",
      "Big Spenders:  7881\n",
      "Almost Lost:  1152\n",
      "Lost Customers:  728\n",
      "Lost Cheap Customers:  1456\n"
     ]
    }
   ],
   "source": [
    "print(\"Best Customers: \",len(rfm[rfm['RFM_Score']=='111']))\n",
    "print('Loyal Customers: ',len(rfm[rfm['F']=='1']))\n",
    "print(\"Big Spenders: \",len(rfm[rfm['M']=='1']))\n",
    "print('Almost Lost: ', len(rfm[rfm['RFM_Score']=='211']))\n",
    "print('Lost Customers: ',len(rfm[rfm['RFM_Score']=='411']))\n",
    "print('Lost Cheap Customers: ',len(rfm[rfm['RFM_Score']=='444']))"
   ]
  }
 ],
 "metadata": {
  "kernelspec": {
   "display_name": "Python 3",
   "language": "python",
   "name": "python3"
  },
  "language_info": {
   "codemirror_mode": {
    "name": "ipython",
    "version": 3
   },
   "file_extension": ".py",
   "mimetype": "text/x-python",
   "name": "python",
   "nbconvert_exporter": "python",
   "pygments_lexer": "ipython3",
   "version": "3.8.8"
  }
 },
 "nbformat": 4,
 "nbformat_minor": 5
}
